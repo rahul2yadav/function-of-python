{
  "nbformat": 4,
  "nbformat_minor": 0,
  "metadata": {
    "colab": {
      "provenance": []
    },
    "kernelspec": {
      "name": "python3",
      "display_name": "Python 3"
    },
    "language_info": {
      "name": "python"
    }
  },
  "cells": [
    {
      "cell_type": "markdown",
      "source": [
        "#FUNCTIONS ASSIGNMENT"
      ],
      "metadata": {
        "id": "QjkdtrnYNzCe"
      }
    },
    {
      "cell_type": "markdown",
      "source": [
        "1. What is the difference between a function and a method in Python?\n",
        "  \n",
        "  \n",
        " --> Function: A block of code that performs a specific task and is defined using def.\n",
        "\n",
        "  --> Method: A function that is associated with an object and called using dot notation."
      ],
      "metadata": {
        "id": "B6B5ylZ5OHB1"
      }
    },
    {
      "cell_type": "code",
      "source": [
        "#EXAMPLE\n",
        "def greet():  # Function\n",
        "    print(\"Hello\")\n",
        "\n",
        "name = \"Python\"\n",
        "print(name.upper())\n"
      ],
      "metadata": {
        "colab": {
          "base_uri": "https://localhost:8080/"
        },
        "id": "0SV2frkLOm_w",
        "outputId": "fc43d950-7366-4237-d578-9bd73bc55b42"
      },
      "execution_count": 29,
      "outputs": [
        {
          "output_type": "stream",
          "name": "stdout",
          "text": [
            "PYTHON\n"
          ]
        }
      ]
    },
    {
      "cell_type": "markdown",
      "source": [
        "2. Explain the concept of function arguments and parameters in Python.\n",
        "\n",
        "\n",
        "\n",
        "  --> Parameters: Variables listed inside the parentheses in the function definition.\n",
        "\n",
        "  -->Arguments: Actual values passed to the function when it is called."
      ],
      "metadata": {
        "id": "umJopq26Oy1W"
      }
    },
    {
      "cell_type": "code",
      "source": [
        "#EXAMPLE\n",
        "def add(x, y):\n",
        "    return x + y\n",
        "\n",
        "add(5, 3)\n"
      ],
      "metadata": {
        "colab": {
          "base_uri": "https://localhost:8080/"
        },
        "id": "LjTdXlW1PKFA",
        "outputId": "78039c73-0c47-4f63-aa3d-6b9145a06095"
      },
      "execution_count": 30,
      "outputs": [
        {
          "output_type": "execute_result",
          "data": {
            "text/plain": [
              "8"
            ]
          },
          "metadata": {},
          "execution_count": 30
        }
      ]
    },
    {
      "cell_type": "markdown",
      "source": [
        "3. What are the different ways to define and call a function in Python?\n",
        "  \n",
        "  \n",
        "  \n",
        "  --> Define using def\n",
        "\n",
        "  -->  Define using lambda\n",
        "\n",
        "  --> Call using function name with arguments"
      ],
      "metadata": {
        "id": "HmNYMyRhPPyL"
      }
    },
    {
      "cell_type": "code",
      "source": [
        "#EXAMPLE\n",
        "def square(x):\n",
        "    return x*x\n",
        "\n",
        "print(square(4))\n",
        "\n",
        "\n",
        "square_lambda = lambda x: x*x\n",
        "print(square_lambda(4))\n"
      ],
      "metadata": {
        "colab": {
          "base_uri": "https://localhost:8080/"
        },
        "id": "_peJ0B43P2Z1",
        "outputId": "05187b3f-faa4-406f-db77-8b69c6020639"
      },
      "execution_count": 31,
      "outputs": [
        {
          "output_type": "stream",
          "name": "stdout",
          "text": [
            "16\n",
            "16\n"
          ]
        }
      ]
    },
    {
      "cell_type": "markdown",
      "source": [
        "4. What is the purpose of the return statement in a Python function?\n",
        "\n",
        "\n",
        "   \n",
        "   --> It exits the function and sends back a value to the caller."
      ],
      "metadata": {
        "id": "26ezy6rcQbEP"
      }
    },
    {
      "cell_type": "code",
      "source": [
        "#EXAMPLE\n",
        "def multiply(a, b):\n",
        "    return a * b\n",
        "\n",
        "result = multiply(3, 4)\n",
        "print(result)\n"
      ],
      "metadata": {
        "colab": {
          "base_uri": "https://localhost:8080/"
        },
        "id": "kxOPElUCQGLF",
        "outputId": "95d5f4b0-9df2-408e-a557-0f7ced6fa755"
      },
      "execution_count": 32,
      "outputs": [
        {
          "output_type": "stream",
          "name": "stdout",
          "text": [
            "12\n"
          ]
        }
      ]
    },
    {
      "cell_type": "markdown",
      "source": [
        "5. What are iterators in Python and how do they differ from iterables?\n",
        "\n",
        "\n",
        "  --> Iterable: An object with __iter__() method (like lists, strings).\n",
        "\n",
        "  -->Iterator: An object with __next__() method that fetches values one by one."
      ],
      "metadata": {
        "id": "Ax_0d8u_Qrr_"
      }
    },
    {
      "cell_type": "code",
      "source": [
        "#EXAMPLE\n",
        "\n",
        "nums = [1, 2, 3]\n",
        "it = iter(nums)\n",
        "print(next(it))\n"
      ],
      "metadata": {
        "colab": {
          "base_uri": "https://localhost:8080/"
        },
        "id": "X0PNhWqAQ4s1",
        "outputId": "e393a345-a94e-453e-e4f3-786f49ca1667"
      },
      "execution_count": 33,
      "outputs": [
        {
          "output_type": "stream",
          "name": "stdout",
          "text": [
            "1\n"
          ]
        }
      ]
    },
    {
      "cell_type": "markdown",
      "source": [
        "6. Explain the concept of generators in Python and how they are defined.\n",
        "\n",
        "\n",
        " --> A generator is a function that yields values one at a time using yield.\n",
        "\n",
        "--> They are used for memory-efficient iteration."
      ],
      "metadata": {
        "id": "G8Xvi_uUREHu"
      }
    },
    {
      "cell_type": "code",
      "source": [
        "def count_up_to(n):\n",
        "    i = 1\n",
        "    while i <= n:\n",
        "        yield i\n",
        "        i += 1\n",
        "\n",
        "for num in count_up_to(3):\n",
        "    print(num)\n"
      ],
      "metadata": {
        "colab": {
          "base_uri": "https://localhost:8080/"
        },
        "id": "zuMJmpJNRNIg",
        "outputId": "558a5b02-3171-4581-cd70-9bd23d3ba5b8"
      },
      "execution_count": 34,
      "outputs": [
        {
          "output_type": "stream",
          "name": "stdout",
          "text": [
            "1\n",
            "2\n",
            "3\n"
          ]
        }
      ]
    },
    {
      "cell_type": "markdown",
      "source": [
        "7. What are the advantages of using generators over regular functions?\n",
        "\n",
        "\n",
        "   --> Memory efficient: Generates values lazily.\n",
        "\n",
        "  --> Faster execution for large data.\n",
        "\n",
        "  --> Simple code for iteration-heavy tasks.\n",
        "\n",
        "Example:\n",
        "Use generator to read a large file line-by-line instead of loading the entire file.\n",
        "\n"
      ],
      "metadata": {
        "id": "ML6sYhaeRUZx"
      }
    },
    {
      "cell_type": "markdown",
      "source": [
        "8. What is a lambda function in Python and when is it typically used?\n",
        "\n",
        "\n",
        "  --> A small anonymous function using the lambda keyword.\n",
        "\n",
        "  --> Used for short, throwaway functions (commonly with map, filter, sorted).\n",
        "\n"
      ],
      "metadata": {
        "id": "qD8fm4bsSyv1"
      }
    },
    {
      "cell_type": "code",
      "source": [
        "#EXAMPLE\n",
        "square = lambda x: x*x\n",
        "print(square(5))\n"
      ],
      "metadata": {
        "colab": {
          "base_uri": "https://localhost:8080/"
        },
        "id": "K5dDfyabTEXo",
        "outputId": "53c3a149-1c9a-4e6b-9ed2-8e8ff2a8a5a9"
      },
      "execution_count": 35,
      "outputs": [
        {
          "output_type": "stream",
          "name": "stdout",
          "text": [
            "25\n"
          ]
        }
      ]
    },
    {
      "cell_type": "markdown",
      "source": [
        "9. Explain the purpose and usage of the map() function in Python.\n",
        "  \n",
        "  \n",
        "  --> Applies a function to every element in an iterable."
      ],
      "metadata": {
        "id": "f5vx7770TWNR"
      }
    },
    {
      "cell_type": "code",
      "source": [
        "#EXAMPLE\n",
        "nums = [1, 2, 3]\n",
        "squared = list(map(lambda x: x**2, nums))\n",
        "print(squared)\n"
      ],
      "metadata": {
        "colab": {
          "base_uri": "https://localhost:8080/"
        },
        "id": "F8ESnNOWTdbE",
        "outputId": "214e7993-b4e9-42d1-aea8-f87a4f4d89bf"
      },
      "execution_count": 36,
      "outputs": [
        {
          "output_type": "stream",
          "name": "stdout",
          "text": [
            "[1, 4, 9]\n"
          ]
        }
      ]
    },
    {
      "cell_type": "markdown",
      "source": [
        "10. What is the difference between map(), reduce(), and filter() in Python?\n",
        "\n",
        "\n",
        "\n",
        "--> These are higher-order functions used for functional-style programming. Each one serves a unique purpose when working with iterables.\n",
        "\n"
      ],
      "metadata": {
        "id": "ksjU1MC2Uy_9"
      }
    },
    {
      "cell_type": "code",
      "source": [
        "''' 1. map()\n",
        "Purpose: Applies a function to each element of an iterable.\n",
        "\n",
        "Returns: A new iterable with the results.\n",
        "\n",
        "✅ Use when you want to transform each element.\n",
        "\n",
        "Syntax: map(function, iterable)'''\n",
        "nums = [1, 2, 3]\n",
        "squared = list(map(lambda x: x**2, nums))\n",
        "print(squared)\n",
        "\n",
        "'''2. filter()\n",
        "Purpose: Filters elements based on a condition.\n",
        "\n",
        "Returns: A new iterable with elements that pass the test.\n",
        "\n",
        "✅ Use when you want to keep only selected items.\n",
        "\n",
        "Syntax: filter(function, iterable)'''\n",
        "nums = [1, 2, 3, 4]\n",
        "even = list(filter(lambda x: x % 2 == 0, nums))\n",
        "print(even)\n",
        "\n",
        "''' 3. reduce()\n",
        "Purpose: Applies a function cumulatively to reduce the iterable to a single value.\n",
        "\n",
        "Returns: A single result (not an iterable).\n",
        "\n",
        "✅ Use when you want to accumulate or combine values.\n",
        "\n",
        "📌 Needs to be imported from functools.\n",
        "\n",
        "Syntax: reduce(function, iterable)'''\n",
        "from functools import reduce\n",
        "nums = [1, 2, 3, 4]\n",
        "total = reduce(lambda x, y: x + y, nums)\n",
        "print(total)\n",
        "\n",
        "\n"
      ],
      "metadata": {
        "colab": {
          "base_uri": "https://localhost:8080/"
        },
        "id": "mPcTbVZTTi_7",
        "outputId": "133e6906-8b4d-4c3a-e7df-2f4c883a3d3a"
      },
      "execution_count": 37,
      "outputs": [
        {
          "output_type": "stream",
          "name": "stdout",
          "text": [
            "[1, 4, 9]\n",
            "[2, 4]\n",
            "10\n"
          ]
        }
      ]
    },
    {
      "cell_type": "markdown",
      "source": [
        "11. Internal Mechanism of reduce() for Sum Operation\n",
        "\n",
        "\n",
        "--> Task: Use reduce() to compute the sum of [1, 2, 3, 4]\n",
        "\n",
        "--> Step-by-step evaluation:"
      ],
      "metadata": {
        "id": "2dH0fNFkV1U0"
      }
    },
    {
      "cell_type": "code",
      "source": [
        "from functools import reduce\n",
        "\n",
        "reduce(lambda x, y: x + y, [1, 2, 3, 4])\n",
        "\n",
        "#Internal mechanism:\n",
        "\n",
        "# Step 1: x=1, y=2 -> x+y=3\n",
        "# Step 2: x=3, y=3 -> x+y=6\n",
        "# Step 3: x=6, y=4 -> x+y=10\n",
        "# Final Output: 10"
      ],
      "metadata": {
        "colab": {
          "base_uri": "https://localhost:8080/"
        },
        "id": "qpdn5GHcVxPo",
        "outputId": "f155c34c-754a-43f8-eced-6e393c31dd92"
      },
      "execution_count": 38,
      "outputs": [
        {
          "output_type": "execute_result",
          "data": {
            "text/plain": [
              "10"
            ]
          },
          "metadata": {},
          "execution_count": 38
        }
      ]
    },
    {
      "cell_type": "markdown",
      "source": [
        "#Pratical question"
      ],
      "metadata": {
        "id": "9jlMq8SLWgeR"
      }
    },
    {
      "cell_type": "code",
      "source": [
        "#1. Sum of the all even number in list?\n",
        "def sum_even_numbers(lst):\n",
        "    return sum(num for num in lst if num % 2 == 0)\n",
        "\n",
        "# Example\n",
        "print(sum_even_numbers([1, 2, 3, 4, 5, 6]))  # Output: 12"
      ],
      "metadata": {
        "colab": {
          "base_uri": "https://localhost:8080/"
        },
        "id": "yImVH6S3YfP7",
        "outputId": "d9794caf-c03b-42cd-8a7d-c2a1ae2787c7"
      },
      "execution_count": 39,
      "outputs": [
        {
          "output_type": "stream",
          "name": "stdout",
          "text": [
            "12\n"
          ]
        }
      ]
    },
    {
      "cell_type": "code",
      "source": [
        "#2. Create a Python function that accepts a string and returns the reverse of that string.\n",
        "\n",
        "\n",
        "def reverse_string(s):\n",
        "    return s[::-1]\n",
        "\n",
        "# Example\n",
        "print(reverse_string('hello'))  # Output: 'olleh'\n"
      ],
      "metadata": {
        "colab": {
          "base_uri": "https://localhost:8080/"
        },
        "id": "IbsBV2aCY9if",
        "outputId": "2161ed7e-12cd-4557-82d7-891a2b655656"
      },
      "execution_count": 40,
      "outputs": [
        {
          "output_type": "stream",
          "name": "stdout",
          "text": [
            "olleh\n"
          ]
        }
      ]
    },
    {
      "cell_type": "code",
      "source": [
        "'''3. Implement a Python function that takes a list of integers and returns a new list containing the squares of\n",
        "each number?'''\n",
        "def square_list(lst):\n",
        "    return [x ** 2 for x in lst]\n",
        "\n",
        "# Example\n",
        "print(square_list([1, 2, 3]))  # Output: [1, 4, 9]\n"
      ],
      "metadata": {
        "colab": {
          "base_uri": "https://localhost:8080/"
        },
        "id": "lb1jz6zcZIM2",
        "outputId": "c8a103a8-9258-44fc-ac43-d931ba48ba3c"
      },
      "execution_count": 41,
      "outputs": [
        {
          "output_type": "stream",
          "name": "stdout",
          "text": [
            "[1, 4, 9]\n"
          ]
        }
      ]
    },
    {
      "cell_type": "code",
      "source": [
        "#4. Write a Python function that checks if a given number is prime or not from 1 to 200.\n",
        "\n",
        "def is_prime(n):\n",
        "    if n < 2:\n",
        "        return False\n",
        "    for i in range(2, int(n ** 0.5) + 1):\n",
        "        if n % i == 0:\n",
        "            return False\n",
        "    return True\n",
        "\n",
        "# Example: Prime numbers from 1 to 200\n",
        "primes = [x for x in range(1, 201) if is_prime(x)]\n",
        "print(primes)"
      ],
      "metadata": {
        "colab": {
          "base_uri": "https://localhost:8080/"
        },
        "id": "GJMWzK-EZhw9",
        "outputId": "3b24aa75-4c8e-460e-8d13-1b8c0b390347"
      },
      "execution_count": 42,
      "outputs": [
        {
          "output_type": "stream",
          "name": "stdout",
          "text": [
            "[2, 3, 5, 7, 11, 13, 17, 19, 23, 29, 31, 37, 41, 43, 47, 53, 59, 61, 67, 71, 73, 79, 83, 89, 97, 101, 103, 107, 109, 113, 127, 131, 137, 139, 149, 151, 157, 163, 167, 173, 179, 181, 191, 193, 197, 199]\n"
          ]
        }
      ]
    },
    {
      "cell_type": "code",
      "source": [
        "\"\"\"5. Create an iterator class in Python that generates the Fibonacci sequence up to a specified number of\n",
        "terms.\"\"\"\n",
        "\n",
        "class Fibonacci:\n",
        "    def __init__(self, max_terms):\n",
        "        self.max_terms = max_terms\n",
        "        self.a, self.b = 0, 1\n",
        "        self.count = 0\n",
        "\n",
        "    def __iter__(self):\n",
        "        return self\n",
        "\n",
        "    def __next__(self):\n",
        "        if self.count >= self.max_terms:\n",
        "            raise StopIteration\n",
        "        value = self.a\n",
        "        self.a, self.b = self.b, self.a + self.b\n",
        "        self.count += 1\n",
        "        return value\n",
        "\n",
        "# Example\n",
        "for num in Fibonacci(10):\n",
        "    print(num, end=' ')"
      ],
      "metadata": {
        "colab": {
          "base_uri": "https://localhost:8080/"
        },
        "id": "xm-SrrNAZqgf",
        "outputId": "06e57bd7-7460-4fe7-b247-12d043668b75"
      },
      "execution_count": 43,
      "outputs": [
        {
          "output_type": "stream",
          "name": "stdout",
          "text": [
            "0 1 1 2 3 5 8 13 21 34 "
          ]
        }
      ]
    },
    {
      "cell_type": "code",
      "source": [
        "#6. Write a generator function in Python that yields the powers of 2 up to a given exponent.\n",
        "\n",
        "def power_of_two(n):\n",
        "    for i in range(n + 1):\n",
        "        yield 2 ** i\n",
        "\n",
        "# Example\n",
        "for power in power_of_two(5):\n",
        "    print(power)"
      ],
      "metadata": {
        "colab": {
          "base_uri": "https://localhost:8080/"
        },
        "id": "7Mmo6Kk5Z17f",
        "outputId": "ab48ade9-bfdf-424b-b107-d0deda437f80"
      },
      "execution_count": 44,
      "outputs": [
        {
          "output_type": "stream",
          "name": "stdout",
          "text": [
            "1\n",
            "2\n",
            "4\n",
            "8\n",
            "16\n",
            "32\n"
          ]
        }
      ]
    },
    {
      "cell_type": "code",
      "source": [
        "#7. Implement a generator function that reads a file line by line and yields each line as a string.\n",
        "\n",
        "def read_file_lines(file_path):\n",
        "    with open(file_path, 'r') as file:\n",
        "        for line in file:\n",
        "            yield line.strip()"
      ],
      "metadata": {
        "id": "WKbvxohWZ9BH"
      },
      "execution_count": 45,
      "outputs": []
    },
    {
      "cell_type": "code",
      "source": [
        "\"\"\"8. Use a lambda function in Python to sort a list of tuples based on the second element of each tuple.\"\"\"\n",
        "data = [(1, 5), (3, 2), (2, 8), (4, 1)]\n",
        "sorted_data = sorted(data, key=lambda x: x[1])\n",
        "print(sorted_data)"
      ],
      "metadata": {
        "colab": {
          "base_uri": "https://localhost:8080/"
        },
        "id": "Kkoss_pqaDbH",
        "outputId": "c678f91f-391f-4b2f-ebfa-9115ec2a3396"
      },
      "execution_count": 46,
      "outputs": [
        {
          "output_type": "stream",
          "name": "stdout",
          "text": [
            "[(4, 1), (3, 2), (1, 5), (2, 8)]\n"
          ]
        }
      ]
    },
    {
      "cell_type": "code",
      "source": [
        "#9. Write a Python program that uses `map()` to convert a list of temperatures from Celsius to Fahrenheit.\n",
        "\n",
        "celsius_temperatures = [0, 10, 20, 30, 40]\n",
        "fahrenheit_temperatures = list(map(lambda c: (c * 9/5) + 32, celsius_temperatures))\n",
        "print (fahrenheit_temperatures)"
      ],
      "metadata": {
        "colab": {
          "base_uri": "https://localhost:8080/"
        },
        "id": "FoWf46DaaKYg",
        "outputId": "1f314492-3f4c-4408-a86e-d3887f663156"
      },
      "execution_count": 47,
      "outputs": [
        {
          "output_type": "stream",
          "name": "stdout",
          "text": [
            "[32.0, 50.0, 68.0, 86.0, 104.0]\n"
          ]
        }
      ]
    },
    {
      "cell_type": "code",
      "source": [
        "#10. Create a Python program that uses `filter()` to remove all the vowels from a given string.\n",
        "\n",
        "def remove_vowels(s):\n",
        "    return ''.join(filter(lambda x: x.lower() not in 'aeiou', s))\n",
        "\n",
        "# Example\n",
        "print(remove_vowels('hello world'))  # Output: 'hll wrld'"
      ],
      "metadata": {
        "colab": {
          "base_uri": "https://localhost:8080/"
        },
        "id": "-k5EbT8daRa_",
        "outputId": "57651838-4a53-4d20-fa2a-8f1c1cdd1e41"
      },
      "execution_count": 48,
      "outputs": [
        {
          "output_type": "stream",
          "name": "stdout",
          "text": [
            "hll wrld\n"
          ]
        }
      ]
    },
    {
      "cell_type": "code",
      "source": [
        "#11. Imagine an accounting routine used in a book shop. It works on a list with sublists, which look like this:\n",
        "\n",
        "orders = [\n",
        "    [34587, 'Learning Python', 4, 40.95],\n",
        "    [98762, 'Programming Java', 5, 17.50],\n",
        "    [77226, 'Head First Python', 3, 39.95],\n",
        "    [88112, 'Intro to Algorithms', 3, 35.50]\n",
        "]\n",
        "\n",
        "result = list(map(\n",
        "    lambda order: (order[0], order[2] * order[3] if order[2] * order[3] >= 100 else order[2] * order[3] + 10),\n",
        "    orders\n",
        "))\n",
        "print(result)"
      ],
      "metadata": {
        "colab": {
          "base_uri": "https://localhost:8080/"
        },
        "id": "_tZwL1jZazRm",
        "outputId": "c392d97f-cfb4-419c-f9ec-e8d777bf739d"
      },
      "execution_count": 49,
      "outputs": [
        {
          "output_type": "stream",
          "name": "stdout",
          "text": [
            "[(34587, 163.8), (98762, 97.5), (77226, 119.85000000000001), (88112, 106.5)]\n"
          ]
        }
      ]
    },
    {
      "cell_type": "code",
      "source": [
        "\"\"\"Write a Python program, which returns a list with 2-tuples. Each tuple consists of the order number and the\n",
        "product of the price per item and the quantity. The product should be increased by 10,- € if the value of the\n",
        "order is smaller than 100,00 €.\"\"\"\n",
        "def calculate_order_values(orders):\n",
        "    result = []\n",
        "    for order_number, price, quantity in orders:\n",
        "        total = price * quantity\n",
        "        if total < 100:\n",
        "            total += 10\n",
        "        result.append((order_number, total))\n",
        "    return result\n",
        "\n",
        "# Sample input: list of tuples (order_number, price_per_item, quantity)\n",
        "orders = [\n",
        "    (1, 15.0, 3),\n",
        "    (2, 40.0, 1),\n",
        "    (3, 50.0, 2),\n",
        "    (4, 10.0, 10)\n",
        "]\n",
        "\n",
        "# Call the function and print the result\n",
        "final_orders = calculate_order_values(orders)\n",
        "print(final_orders)\n"
      ],
      "metadata": {
        "colab": {
          "base_uri": "https://localhost:8080/"
        },
        "id": "KRys5HSqbGUn",
        "outputId": "fe5caf5c-36ca-4854-dc8c-49ca54172d7f"
      },
      "execution_count": 50,
      "outputs": [
        {
          "output_type": "stream",
          "name": "stdout",
          "text": [
            "[(1, 55.0), (2, 50.0), (3, 100.0), (4, 100.0)]\n"
          ]
        }
      ]
    },
    {
      "cell_type": "code",
      "source": [
        "# Write a Python program using lambda and map.\n",
        "orders = [\n",
        "    (1, 15.0, 3),\n",
        "    (2, 40.0, 1),\n",
        "    (3, 50.0, 2),\n",
        "    (4, 10.0, 10)\n",
        "]\n",
        "\n",
        "result = list(map(lambda x: (x[0], x[1]*x[2] + 10 if x[1]*x[2] < 100 else x[1]*x[2]), orders))\n",
        "\n",
        "print(result)\n"
      ],
      "metadata": {
        "colab": {
          "base_uri": "https://localhost:8080/"
        },
        "id": "Wd1ADl2MbYHz",
        "outputId": "b671cd99-7cd9-4f17-cca3-6db866a3d356"
      },
      "execution_count": 51,
      "outputs": [
        {
          "output_type": "stream",
          "name": "stdout",
          "text": [
            "[(1, 55.0), (2, 50.0), (3, 100.0), (4, 100.0)]\n"
          ]
        }
      ]
    }
  ]
}